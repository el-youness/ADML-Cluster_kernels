{
 "cells": [
  {
   "cell_type": "code",
   "execution_count": 4,
   "metadata": {
    "ExecuteTime": {
     "end_time": "2018-12-29T16:44:32.612409Z",
     "start_time": "2018-12-29T16:44:32.595456Z"
    },
    "collapsed": true
   },
   "outputs": [],
   "source": [
    "import numpy as np\n",
    "import sklearn.utils.extmath as sm\n",
    "from numpy.linalg import inv\n",
    "from numpy.linalg import eig\n",
    "from numpy import dot, diag\n",
    "from scipy.linalg import sqrtm\n",
    "from scipy.spatial.distance import euclidean\n",
    "import pandas as pd\n",
    "import random, math\n",
    "np.random.seed(42)\n",
    "from scipy.optimize import minimize\n",
    "import matplotlib.pyplot as plt"
   ]
  },
  {
   "cell_type": "markdown",
   "metadata": {},
   "source": [
    "# Extension of the cluster kernel"
   ]
  },
  {
   "cell_type": "markdown",
   "metadata": {},
   "source": [
    "## Functions for the main algorithm of the paper\n"
   ]
  },
  {
   "cell_type": "code",
   "execution_count": 14,
   "metadata": {
    "ExecuteTime": {
     "end_time": "2018-12-29T16:50:43.783692Z",
     "start_time": "2018-12-29T16:50:43.599152Z"
    },
    "collapsed": true
   },
   "outputs": [],
   "source": [
    "def fill_diag(M, a):\n",
    "    \"\"\"\n",
    "    M: square matrix\n",
    "    a: array of length number of rows\n",
    "    ----\n",
    "    fill the diagonal of M with values of array a\n",
    "    \"\"\"\n",
    "    s = M.shape\n",
    "    D = np.zeros(s)\n",
    "    for i in range(s[0]):\n",
    "        D[i,i] = a[i]\n",
    "    return D\n",
    "# let A be a matrix, A.T is the transpose of A\n",
    "def rbf_kernel(X, Y, sigma):\n",
    "    K = np.zeros((len(X), len(X)))\n",
    "    for a in range(len(X)):\n",
    "        for b in range(len(X)):\n",
    "            K[a, b] = rbf_function(X[a], X[b])\n",
    "    return K\n",
    "            \n",
    "def rbf_function(x, y, sigma=1):\n",
    "    exponent = - (euclidean(x, y)**2) / (2*(sigma**2))\n",
    "    return np.exp(exponent)\n",
    "\n",
    "\n",
    "def diagonal_row_sum_matrix(M):\n",
    "    rows_sum = M.sum(axis=1)\n",
    "    return fill_diag(M,rows_sum)\n",
    "\n",
    "def computeL(D,K):\n",
    "    Dinv = inv(D)\n",
    "    return sqrtm(Dinv).dot(K).dot(sqrtm(Dinv))\n",
    "\n",
    "def build_K(lambdaCut, transfer, X, Y=None, sigma=None):\n",
    "    \n",
    "    #Step 1 - K matrix\n",
    "    K = rbf_kernel(X, Y, sigma)\n",
    "    D = diagonal_row_sum_matrix(K)\n",
    "    \n",
    "    #Step 2 - L matrix\n",
    "    L = computeL(D, K)\n",
    "    eigen_vals, U = eig(L)\n",
    "    Q = diag(eigen_vals)\n",
    "    \n",
    "    #Step 3 - Transfer Function\n",
    "    newEigen = transfer(eigen_vals, lambdaCut)\n",
    "    newEigen = diag(newEigen)\n",
    "    \n",
    "    #Step 4 - New Kernel matrix\n",
    "    newL = U.dot(newEigen).dot(U.T)\n",
    "    newD = inv(diag(diag(L)))\n",
    "    newK = sqrtm(newD).dot(newL).dot(sqrtm(newD))\n",
    "    return newK\n",
    "    \n",
    "\n",
    "#TRANSFER FUNCTION\n",
    "def linear(vals, lambdaCut):\n",
    "    return vals\n",
    "\n",
    "def step(vals,lambdaCut):\n",
    "    return [ 1 if x >= lambdaCut else 0 for x in vals ]\n",
    "\n",
    "def linear_step(vals, lambdaCut):\n",
    "    return [ x if x >= lambdaCut else 0 for x in vals ]\n",
    "\n",
    "def polynomial(vals, exponent):\n",
    "    return [ np.power(x, exponent) for x in vals ]\n",
    "\n"
   ]
  },
  {
   "cell_type": "markdown",
   "metadata": {},
   "source": [
    "## SVM functions"
   ]
  },
  {
   "cell_type": "code",
   "execution_count": 6,
   "metadata": {
    "ExecuteTime": {
     "end_time": "2018-12-29T16:44:34.152396Z",
     "start_time": "2018-12-29T16:44:33.626326Z"
    },
    "collapsed": true
   },
   "outputs": [],
   "source": [
    "### Kernels\n",
    "def linear_kernel(x1, x2, p):\n",
    "    return np.dot(x1, x2)+1;\n",
    "\n",
    "def polyn_kernel(x1, x2, p):\n",
    "    return (np.dot(x1, x2)+1)**p\n",
    "\n",
    "def rbf_kernel(x1, x2, sigma):\n",
    "    return np.exp(-((np.linalg.norm(x1-x2)**2)/(2*(sigma**2))))\n",
    "\n",
    "\n",
    "\n",
    "### Global Matrix -> should be used as global variable later, as it is called numerous times.\n",
    "def compute_global_matrix(x, y, kernel, p_or_sigma=0):\n",
    "    N = x.shape[0]\n",
    "    kernel = kernel\n",
    "    glob_matrix = [];\n",
    "    \n",
    "    for i in range(0, N):\n",
    "        temp = []\n",
    "        for j in range(0, N):\n",
    "            result = y[i] * y[j] * kernel(x[i], x[j], p_or_sigma)\n",
    "            temp.append(result)\n",
    "        glob_matrix.append(temp)\n",
    "    \n",
    "    return np.array(glob_matrix);\n",
    "\n",
    "\n",
    "### Optimising Function\n",
    "def objective_function(alpha):\n",
    "    obj_value = 0\n",
    "    alphas = 0\n",
    "    \n",
    "    for i in range(0, len(global_matrix)):\n",
    "        for j in range(0, len(global_matrix)):\n",
    "            obj_value += alpha[i] * alpha[j] * global_matrix[i][j]\n",
    "        alphas += alpha[i]\n",
    "    obj_value *= 0.5\n",
    "    obj_value -= alphas\n",
    "    \n",
    "    return obj_value\n",
    "        \n",
    "\n",
    "### Zerofun -> This function must be equal to 0\n",
    "def zerofun(alphas):\n",
    "    return np.dot(alphas, targets)    \n",
    "\n",
    "\n",
    "### Minimise Function\n",
    "def compute_alphas(slack, N):\n",
    "    alphas = np.zeros(N);\n",
    "    bound = [(0, slack) for l in range(N)]\n",
    "    xc = {'type': 'eq', 'fun': zerofun}\n",
    "    minimi = minimize(objective_function, alphas, bounds = bound, constraints = xc )\n",
    "    alphas = minimi[\"x\"]\n",
    "    alphas = [0 if x<0.00001 else x for x in alphas]\n",
    "    \n",
    "    return alphas\n",
    "\n",
    "\n",
    "### Return Non-Zeros Alphas\n",
    "def return_nonzeros(alphas, inputs, targets, slack):\n",
    "    non_zeros_indices = []\n",
    "    non_zeros_alphas = []\n",
    "    non_zeros_inputs = []\n",
    "    non_zeros_targets = []\n",
    "    \n",
    "    N = inputs.shape[0]\n",
    "\n",
    "    for i in range(0, N):\n",
    "        if (alphas[i] > 0.00001 and alphas[i] <= slack):\n",
    "            non_zeros_indices.append(i)\n",
    "            non_zeros_alphas.append(alphas[i])\n",
    "            non_zeros_inputs.append(inputs[i])\n",
    "            non_zeros_targets.append(targets[i])\n",
    "    return non_zeros_indices, non_zeros_alphas, non_zeros_inputs, non_zeros_targets\n",
    "\n",
    "\n",
    "### Get support vector \n",
    "def get_b(alphas, non_zeros_indices, inputs, targets, kernel, p_or_sigma = 0):\n",
    "    b=[]\n",
    "    bb = 0\n",
    "    \n",
    "    for i in non_zeros_indices:\n",
    "        bb = 0\n",
    "        for j in range(0, len(inputs)):\n",
    "            bb += alphas[j] * targets[j] * kernel(inputs[i], inputs[j], p_or_sigma)\n",
    "        bb -= targets[i]\n",
    "        b.append(bb)  \n",
    "    \n",
    "    return np.mean(b)\n",
    "\n",
    "\n",
    "### Classification function\n",
    "def indicator(to_be_classified, non_zeros_alphas, non_zeros_targets, non_zeros_inputs, b, kernel, slack, p_or_sigma = 0):\n",
    "    value = 0;\n",
    "    \n",
    "    for i in range(0, len(non_zeros_alphas)):\n",
    "        value += non_zeros_alphas[i] * non_zeros_targets[i] * kernel(to_be_classified, non_zeros_inputs[i], p_or_sigma)\n",
    "        value -= b\n",
    "    \n",
    "    return value;\n",
    "\n",
    "\n",
    "def train(x, y, kernel, slack, p_or_sigma = 0):\n",
    "    \n",
    "    alphas = compute_alphas(slack, x.shape[0])\n",
    "    non_zeros_indices, non_zeros_alphas, non_zeros_inputs, non_zeros_targets = return_nonzeros(alphas, x, y, slack)\n",
    "    b = get_b(alphas, non_zeros_indices, x, y, kernel, p_or_sigma)\n",
    "    \n",
    "    return non_zeros_alphas, non_zeros_targets, non_zeros_inputs, b\n",
    "\n",
    "def test(test_points, non_zeros_alphas, non_zeros_targets, non_zeros_inputs, b, kernel, slack, p_or_sigma = 0):\n",
    "    \n",
    "    predictions = []\n",
    "    for point in test_points:\n",
    "        test_target = indicator(point, non_zeros_alphas, non_zeros_targets, non_zeros_inputs, b, kernel, slack, p_or_sigma)\n",
    "        predictions.append(test_target)\n",
    "    return predictions\n",
    "    \n",
    "    \n",
    "    \n",
    "    \n",
    "    \n",
    "\n"
   ]
  },
  {
   "cell_type": "code",
   "execution_count": 7,
   "metadata": {
    "ExecuteTime": {
     "end_time": "2018-12-29T16:44:34.235197Z",
     "start_time": "2018-12-29T16:44:34.154423Z"
    },
    "collapsed": true
   },
   "outputs": [],
   "source": [
    "test_x = np.array([[1 ,3], [2, 3], [1, 2], [1.5, 1], [3, 1.5], [2, 1.5], [7, 9], [8, 7], [8, 9], [7.5, 8], [9, 7.5]])\n",
    "targets = np.array([-1., -1., -1., -1., -1., -1., 1., 1., 1., 1., 1.])\n",
    "global_matrix = compute_global_matrix(test_x, targets, linear_kernel, 0)"
   ]
  },
  {
   "cell_type": "code",
   "execution_count": 8,
   "metadata": {
    "ExecuteTime": {
     "end_time": "2018-12-29T16:44:34.400732Z",
     "start_time": "2018-12-29T16:44:34.377828Z"
    }
   },
   "outputs": [],
   "source": [
    "non_zeros_alphas, non_zeros_targets, non_zeros_inputs, b = train(test_x, targets, linear_kernel, 1000, 0)"
   ]
  },
  {
   "cell_type": "code",
   "execution_count": 9,
   "metadata": {
    "ExecuteTime": {
     "end_time": "2018-12-29T16:44:38.393502Z",
     "start_time": "2018-12-29T16:44:38.387515Z"
    }
   },
   "outputs": [],
   "source": [
    "testtest_x = np.array([[1.5, 1.5], [8, 8]])\n",
    "predictions = test(testtest_x, non_zeros_alphas, non_zeros_targets, non_zeros_inputs, b, linear_kernel, 1000, 0)\n"
   ]
  },
  {
   "cell_type": "code",
   "execution_count": 10,
   "metadata": {
    "ExecuteTime": {
     "end_time": "2018-12-29T16:44:38.669766Z",
     "start_time": "2018-12-29T16:44:38.630898Z"
    },
    "collapsed": true
   },
   "outputs": [],
   "source": [
    "def plot_it_all(classA, classB, non_zero_alphas, non_zero_inputs, non_zero_targets, b, title, kernel, slack, p_or_sigma):\n",
    "    plt.plot([p[0] for p in classA],\n",
    "            [p[1] for p in classA],\n",
    "            'b.')\n",
    "    plt.plot([p[0] for p in classB],\n",
    "            [p[1] for p in classB],\n",
    "            'r.')\n",
    "    plt.axis(\"equal\")\n",
    "    plt.savefig(title)\n",
    "    xgrid = np.linspace(-5, 5)\n",
    "    ygrid = np.linspace(-4, 4)\n",
    "    grid = np.array([[indicator([x, y], non_zeros_alphas, non_zeros_targets, non_zeros_inputs, b, kernel, slack, p_or_sigma)\n",
    "                     for x in xgrid]\n",
    "                     for y in ygrid])\n",
    "    plt.contour(xgrid, ygrid, grid,\n",
    "               (-1.0, 0.0, 1.0),\n",
    "                colors = (\"red\", \"black\", \"blue\"),\n",
    "                linewidths = (1,3,1))\n",
    "    plt.plot([p[0] for p in classA],\\\n",
    "              [p[1] for p in classA],\\\n",
    "              'b.')\n",
    "    \n",
    "    plt.plot([p[0] for p in classB],\\\n",
    "              [p[1] for p in classB],\\\n",
    "              'r.')\n",
    "    plt.axis(\"equal\")\n",
    "    plt.show()"
   ]
  },
  {
   "cell_type": "code",
   "execution_count": 11,
   "metadata": {
    "ExecuteTime": {
     "end_time": "2018-12-29T16:48:20.313062Z",
     "start_time": "2018-12-29T16:48:19.950997Z"
    }
   },
   "outputs": [
    {
     "name": "stderr",
     "output_type": "stream",
     "text": [
      "C:\\ProgramData\\Anaconda3\\lib\\site-packages\\matplotlib\\contour.py:1180: UserWarning: No contour levels were found within the data range.\n",
      "  warnings.warn(\"No contour levels were found\"\n"
     ]
    },
    {
     "data": {
      "image/png": "[encoded data removed]",
      "text/plain": [
       "<matplotlib.figure.Figure at 0x1fb7124a400>"
      ]
     },
     "metadata": {},
     "output_type": "display_data"
    }
   ],
   "source": [
    "plot_it_all(test_x[6:], test_x[0:6], non_zeros_alphas, non_zeros_inputs, non_zeros_targets, b, \"\", linear_kernel, 1000, 0)"
   ]
  },
  {
   "cell_type": "markdown",
   "metadata": {},
   "source": [
    "## Main\n"
   ]
  },
  {
   "cell_type": "markdown",
   "metadata": {},
   "source": [
    "### Dummy example"
   ]
  },
  {
   "cell_type": "code",
   "execution_count": 15,
   "metadata": {
    "ExecuteTime": {
     "end_time": "2018-12-29T16:50:56.249874Z",
     "start_time": "2018-12-29T16:50:56.206957Z"
    }
   },
   "outputs": [],
   "source": [
    "nb_samples = 4 #nb of samples\n",
    "dim_sample = 5\n",
    "X = np.random.rand(nb_samples,dim_sample)\n",
    "lambdaCut = 1\n",
    "\n",
    "K = build_K(lambdaCut, linear, X)\n"
   ]
  },
  {
   "cell_type": "code",
   "execution_count": 16,
   "metadata": {
    "ExecuteTime": {
     "end_time": "2018-12-29T16:50:57.687083Z",
     "start_time": "2018-12-29T16:50:57.677162Z"
    }
   },
   "outputs": [
    {
     "data": {
      "text/plain": [
       "array([[1.        , 0.85990169, 0.72197121, 0.90257394],\n",
       "       [0.85990169, 1.        , 0.54713097, 0.84008359],\n",
       "       [0.72197121, 0.54713097, 1.        , 0.81645966],\n",
       "       [0.90257394, 0.84008359, 0.81645966, 1.        ]])"
      ]
     },
     "execution_count": 16,
     "metadata": {},
     "output_type": "execute_result"
    }
   ],
   "source": [
    "K"
   ]
  },
  {
   "cell_type": "markdown",
   "metadata": {},
   "source": [
    "## Datasets"
   ]
  },
  {
   "cell_type": "code",
   "execution_count": 139,
   "metadata": {
    "ExecuteTime": {
     "end_time": "2018-12-23T15:10:49.794692Z",
     "start_time": "2018-12-23T15:10:41.807257Z"
    },
    "collapsed": true
   },
   "outputs": [],
   "source": [
    "import pickle\n",
    "from numpy.core import multiarray\n",
    "import pandas as pd"
   ]
  },
  {
   "cell_type": "markdown",
   "metadata": {},
   "source": [
    "### Digit Datasets"
   ]
  },
  {
   "cell_type": "code",
   "execution_count": 185,
   "metadata": {
    "ExecuteTime": {
     "end_time": "2018-12-23T15:41:34.457747Z",
     "start_time": "2018-12-23T15:41:34.434559Z"
    },
    "collapsed": true
   },
   "outputs": [],
   "source": [
    "with open(\"../Dataset/digitDataset.pickle\", \"rb\") as fp:\n",
    "    digits = pickle.load(fp,encoding='bytes')"
   ]
  },
  {
   "cell_type": "code",
   "execution_count": 181,
   "metadata": {
    "ExecuteTime": {
     "end_time": "2018-12-23T15:35:21.377499Z",
     "start_time": "2018-12-23T15:35:21.361037Z"
    },
    "collapsed": true
   },
   "outputs": [],
   "source": [
    "X = []\n",
    "labels = []\n",
    "for i in range(0, len(digits)):\n",
    "    X.append(digits[i][0])\n",
    "    labels.append(digits[i][1])\n",
    "X = np.array(X)\n",
    "labels = np.array(labels)"
   ]
  },
  {
   "cell_type": "code",
   "execution_count": 182,
   "metadata": {
    "ExecuteTime": {
     "end_time": "2018-12-23T15:37:56.379594Z",
     "start_time": "2018-12-23T15:35:22.888386Z"
    },
    "collapsed": true
   },
   "outputs": [],
   "source": [
    "lambdaCut = 1\n",
    "\n",
    "K = build_K(lambdaCut, step, X)"
   ]
  },
  {
   "cell_type": "markdown",
   "metadata": {},
   "source": [
    "### Text Datasets"
   ]
  },
  {
   "cell_type": "code",
   "execution_count": 222,
   "metadata": {
    "ExecuteTime": {
     "end_time": "2018-12-23T16:01:34.062123Z",
     "start_time": "2018-12-23T16:01:34.005677Z"
    },
    "collapsed": true
   },
   "outputs": [],
   "source": [
    "with open(\"../Dataset/textDataset.pickle\", \"rb\") as fp:\n",
    "    text = pickle.load(fp, encoding=\"latin-1\")\n"
   ]
  },
  {
   "cell_type": "code",
   "execution_count": 223,
   "metadata": {
    "ExecuteTime": {
     "end_time": "2018-12-23T16:03:04.853025Z",
     "start_time": "2018-12-23T16:03:04.842623Z"
    }
   },
   "outputs": [
    {
     "data": {
      "text/plain": [
       "(1, 33967)"
      ]
     },
     "execution_count": 223,
     "metadata": {},
     "output_type": "execute_result"
    }
   ],
   "source": [
    "text[0][0].shape\n"
   ]
  },
  {
   "cell_type": "markdown",
   "metadata": {},
   "source": [
    "#### Experiments procedure // TODO\n",
    "\n",
    "- Test set:  \n",
    "    987 points \n",
    "- Labeled sets:\n",
    "    100 different ones containing 2 to 128 labelled points\n",
    "    randomly selected\n",
    "- compared kernels : \n",
    "    - linear\n",
    "    - polynomial\n",
    "    - step\n",
    "    - poly-step\n",
    "- Try svms   "
   ]
  },
  {
   "cell_type": "code",
   "execution_count": null,
   "metadata": {
    "collapsed": true
   },
   "outputs": [],
   "source": []
  },
  {
   "cell_type": "code",
   "execution_count": null,
   "metadata": {
    "collapsed": true
   },
   "outputs": [],
   "source": []
  },
  {
   "cell_type": "code",
   "execution_count": null,
   "metadata": {
    "collapsed": true
   },
   "outputs": [],
   "source": []
  },
  {
   "cell_type": "code",
   "execution_count": null,
   "metadata": {
    "collapsed": true
   },
   "outputs": [],
   "source": []
  },
  {
   "cell_type": "code",
   "execution_count": null,
   "metadata": {
    "collapsed": true
   },
   "outputs": [],
   "source": []
  },
  {
   "cell_type": "code",
   "execution_count": null,
   "metadata": {
    "collapsed": true
   },
   "outputs": [],
   "source": []
  },
  {
   "cell_type": "code",
   "execution_count": null,
   "metadata": {
    "collapsed": true
   },
   "outputs": [],
   "source": []
  },
  {
   "cell_type": "code",
   "execution_count": null,
   "metadata": {
    "collapsed": true
   },
   "outputs": [],
   "source": []
  },
  {
   "cell_type": "code",
   "execution_count": null,
   "metadata": {
    "collapsed": true
   },
   "outputs": [],
   "source": []
  },
  {
   "cell_type": "code",
   "execution_count": null,
   "metadata": {
    "collapsed": true
   },
   "outputs": [],
   "source": []
  },
  {
   "cell_type": "code",
   "execution_count": null,
   "metadata": {
    "collapsed": true
   },
   "outputs": [],
   "source": []
  },
  {
   "cell_type": "code",
   "execution_count": null,
   "metadata": {
    "collapsed": true
   },
   "outputs": [],
   "source": []
  },
  {
   "cell_type": "code",
   "execution_count": null,
   "metadata": {
    "collapsed": true
   },
   "outputs": [],
   "source": []
  },
  {
   "cell_type": "code",
   "execution_count": null,
   "metadata": {
    "collapsed": true
   },
   "outputs": [],
   "source": []
  },
  {
   "cell_type": "code",
   "execution_count": null,
   "metadata": {
    "collapsed": true
   },
   "outputs": [],
   "source": []
  },
  {
   "cell_type": "code",
   "execution_count": null,
   "metadata": {
    "collapsed": true
   },
   "outputs": [],
   "source": []
  }
 ],
 "metadata": {
  "kernelspec": {
   "display_name": "Python 3",
   "language": "python",
   "name": "python3"
  },
  "language_info": {
   "codemirror_mode": {
    "name": "ipython",
    "version": 3
   },
   "file_extension": ".py",
   "mimetype": "text/x-python",
   "name": "python",
   "nbconvert_exporter": "python",
   "pygments_lexer": "ipython3",
   "version": "3.6.3"
  },
  "toc": {
   "base_numbering": 1,
   "nav_menu": {},
   "number_sections": true,
   "sideBar": true,
   "skip_h1_title": false,
   "title_cell": "Table of Contents",
   "title_sidebar": "Contents",
   "toc_cell": false,
   "toc_position": {},
   "toc_section_display": true,
   "toc_window_display": true
  }
 },
 "nbformat": 4,
 "nbformat_minor": 2
}
