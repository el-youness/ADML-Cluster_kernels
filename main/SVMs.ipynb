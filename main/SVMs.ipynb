{
 "cells": [
  {
   "cell_type": "code",
   "execution_count": 1,
   "metadata": {
    "ExecuteTime": {
     "end_time": "2018-12-27T23:00:21.192005Z",
     "start_time": "2018-12-27T22:59:52.813348Z"
    },
    "collapsed": true
   },
   "outputs": [],
   "source": [
    "import numpy as np\n",
    "import pandas as pd\n",
    "import random, math\n",
    "np.random.seed(42)\n",
    "from scipy.optimize import minimize\n",
    "import matplotlib.pyplot as plt"
   ]
  },
  {
   "cell_type": "markdown",
   "metadata": {},
   "source": [
    "# Assignment 2"
   ]
  },
  {
   "cell_type": "markdown",
   "metadata": {},
   "source": [
    "## Datasets"
   ]
  },
  {
   "cell_type": "code",
   "execution_count": 2,
   "metadata": {
    "ExecuteTime": {
     "end_time": "2018-12-27T23:00:23.329287Z",
     "start_time": "2018-12-27T23:00:23.289396Z"
    },
    "collapsed": true
   },
   "outputs": [],
   "source": [
    "def create_clusters(lbA1, ubA1, lbA2, ubA2, lbB, ubB, spreadA, spreadB):\n",
    "    classA = np.concatenate((np.random.randn(10,2) * spreadA + [lbA1, ubA1],\n",
    "                           np.random.randn(10, 2) * spreadA + [lbA2, ubA2]))\n",
    "    classB = np.random.randn(20, 2) * spreadB + [lbB, ubB]\n",
    "    inputs = np.concatenate((classA, classB))\n",
    "    targets = np.concatenate(\n",
    "                (np.ones(classA.shape[0]),\n",
    "                -np.ones(classB.shape[0])))\n",
    "\n",
    "    N = inputs.shape[0]\n",
    "\n",
    "    permute = list(range(N))\n",
    "    random.shuffle(permute)\n",
    "    inputs = inputs[permute, :]\n",
    "    targets = targets[permute]\n",
    "    return inputs, targets, N, classA, classB"
   ]
  },
  {
   "cell_type": "markdown",
   "metadata": {},
   "source": [
    "## Functions"
   ]
  },
  {
   "cell_type": "markdown",
   "metadata": {},
   "source": [
    "### Kernels\n"
   ]
  },
  {
   "cell_type": "code",
   "execution_count": 3,
   "metadata": {
    "ExecuteTime": {
     "end_time": "2018-12-27T23:00:27.315720Z",
     "start_time": "2018-12-27T23:00:27.303653Z"
    },
    "collapsed": true
   },
   "outputs": [],
   "source": [
    "def linear_kernel(x1, x2):\n",
    "    return np.dot(x1, x2)+1;\n",
    "\n",
    "def polyn_kernel(x1, x2):\n",
    "    return (np.dot(x1, x2)+1)**p\n",
    "\n",
    "def rbf_kernel(x1, x2):\n",
    "    return np.exp(-((np.linalg.norm(x1-x2)**2)/(2*(std**2))))"
   ]
  },
  {
   "cell_type": "markdown",
   "metadata": {},
   "source": [
    "### Objective Function\n"
   ]
  },
  {
   "cell_type": "code",
   "execution_count": 4,
   "metadata": {
    "ExecuteTime": {
     "end_time": "2018-12-27T23:00:29.796990Z",
     "start_time": "2018-12-27T23:00:29.720187Z"
    },
    "collapsed": true
   },
   "outputs": [],
   "source": [
    "def compute_global_matrix(x, y, kernel, N):\n",
    "    glob_matrix = [];\n",
    "    \n",
    "    if kernel == 0:\n",
    "        for i in range(0, N):\n",
    "            temp = []\n",
    "            for j in range(0, N):\n",
    "                result = y[i]*y[j]*linear_kernel(x[i], x[j])                \n",
    "                temp.append(result)            \n",
    "            glob_matrix.append(temp)\n",
    "            \n",
    "            \n",
    "    elif kernel == 1:\n",
    "        for i in range(0, N):\n",
    "            temp = []\n",
    "            for j in range(0, N):\n",
    "                result = y[i]*y[j]*polyn_kernel(x[i], x[j])                \n",
    "                temp.append(result)            \n",
    "            glob_matrix.append(temp)\n",
    "            \n",
    "            \n",
    "            \n",
    "    elif kernel == 2:\n",
    "        for i in range(0, N):\n",
    "            temp = []\n",
    "            for j in range(0, N):\n",
    "                result = y[i]*y[j]*rbf_kernel(x[i], x[j])                \n",
    "                temp.append(result)            \n",
    "            glob_matrix.append(temp)\n",
    "        \n",
    "    return np.array(glob_matrix);"
   ]
  },
  {
   "cell_type": "code",
   "execution_count": 5,
   "metadata": {
    "ExecuteTime": {
     "end_time": "2018-12-27T23:00:30.427372Z",
     "start_time": "2018-12-27T23:00:30.400836Z"
    },
    "collapsed": true
   },
   "outputs": [],
   "source": [
    "def objective_function(alpha):\n",
    "    obj_value = 0\n",
    "    alphas = 0\n",
    "    for i in range(0, len(p_matrix)):\n",
    "        for j in range(0, len(p_matrix)):\n",
    "            obj_value+=alpha[i]*alpha[j]*p_matrix[i][j]\n",
    "        alphas += alpha[i]\n",
    "    obj_value *= 0.5\n",
    "    obj_value -= alphas\n",
    "    return obj_value\n",
    "        \n",
    "            "
   ]
  },
  {
   "cell_type": "markdown",
   "metadata": {},
   "source": [
    "### Zerofun"
   ]
  },
  {
   "cell_type": "code",
   "execution_count": 6,
   "metadata": {
    "ExecuteTime": {
     "end_time": "2018-12-27T23:00:31.445571Z",
     "start_time": "2018-12-27T23:00:31.438661Z"
    },
    "collapsed": true
   },
   "outputs": [],
   "source": [
    "def zerofun(alphas):\n",
    "    return np.dot(alphas, targets)        "
   ]
  },
  {
   "cell_type": "markdown",
   "metadata": {},
   "source": [
    "### Indicator"
   ]
  },
  {
   "cell_type": "code",
   "execution_count": 18,
   "metadata": {
    "ExecuteTime": {
     "end_time": "2018-12-27T23:05:02.449472Z",
     "start_time": "2018-12-27T23:05:02.401636Z"
    },
    "collapsed": true
   },
   "outputs": [],
   "source": [
    "def indicator(support_vector, nz_alphas, nz_targets, nz_inputs, b, kernel):\n",
    "    value = 0;\n",
    "    if kernel == 0:\n",
    "        for i in range(0, len(nz_alphas)):\n",
    "            if (nz_alphas[i] >= 0 and nz_alphas[i] <= C):\n",
    "                value += nz_alphas[i] * nz_targets[i] * linear_kernel(support_vector, nz_inputs[i])\n",
    "        value -= b        \n",
    "        \n",
    "    elif kernel == 1:\n",
    "        for i in range(0, len(nz_alphas)):\n",
    "            if (nz_alphas[i] >= 0 and nz_alphas[i] <= C):\n",
    "                value += nz_alphas[i] * nz_targets[i] * polyn_kernel(support_vector, nz_inputs[i])\n",
    "        value -= b\n",
    "        \n",
    "    elif kernel == 2:\n",
    "        for i in range(0, len(nz_alphas)):\n",
    "            if (nz_alphas[i] >= 0 and nz_alphas[i] <= C):\n",
    "                value += nz_alphas[i] * nz_targets[i] * rbf_kernel(support_vector, nz_inputs[i])\n",
    "        value -= b\n",
    "    return value;"
   ]
  },
  {
   "cell_type": "markdown",
   "metadata": {},
   "source": [
    "### Compute Alphas"
   ]
  },
  {
   "cell_type": "code",
   "execution_count": 19,
   "metadata": {
    "ExecuteTime": {
     "end_time": "2018-12-27T23:05:05.680826Z",
     "start_time": "2018-12-27T23:05:05.663873Z"
    },
    "collapsed": true
   },
   "outputs": [],
   "source": [
    "### Compute Alphas\n",
    "def compute_alphas(C, N):\n",
    "    alphas = np.zeros(N);\n",
    "    bound = [(0, C) for l in range(N)]\n",
    "    xc = {'type': 'eq', 'fun': zerofun}\n",
    "    minimi = minimize(objective_function, alphas, bounds = bound, constraints = xc )\n",
    "    alphas = minimi[\"x\"]\n",
    "    alphas = [0 if x<0.00001 else x for x in alphas]\n",
    "    return alphas"
   ]
  },
  {
   "cell_type": "code",
   "execution_count": 20,
   "metadata": {
    "ExecuteTime": {
     "end_time": "2018-12-27T23:05:07.204751Z",
     "start_time": "2018-12-27T23:05:07.186799Z"
    },
    "collapsed": true
   },
   "outputs": [],
   "source": [
    "def return_nonzeros(alphas, inputs, targets, C):\n",
    "    non_zeros_indices = []\n",
    "    vector_miss = True\n",
    "    \n",
    "    minimum = 100000;\n",
    "\n",
    "    for i in range(0, N):\n",
    "        if (alphas[i] > 0.00001 and alphas[i] <= C):\n",
    "            non_zeros_indices.append(i)\n",
    "    return non_zeros_indices"
   ]
  },
  {
   "cell_type": "code",
   "execution_count": 21,
   "metadata": {
    "ExecuteTime": {
     "end_time": "2018-12-27T23:05:10.208745Z",
     "start_time": "2018-12-27T23:05:10.145927Z"
    },
    "collapsed": true
   },
   "outputs": [],
   "source": [
    "def get_b(non_zeros_indices, inputs, targets, kernel):\n",
    "    b=[]\n",
    "    bb = 0\n",
    "    if kernel == 0:\n",
    "        for i in non_zeros_indices:\n",
    "            bb = 0\n",
    "            for j in range(0, len(inputs)):\n",
    "                bb += alphas[j]*targets[j]*linear_kernel(inputs[i], inputs[j])\n",
    "            bb -= targets[i]\n",
    "            b.append(bb)\n",
    "        \n",
    "    if kernel == 1:\n",
    "        for i in non_zeros_indices:\n",
    "            bb = 0\n",
    "            for j in range(0, len(inputs)):\n",
    "                bb += alphas[j]*targets[j]*polyn_kernel(inputs[i], inputs[j])\n",
    "            bb -= targets[i]\n",
    "            b.append(bb)\n",
    "            \n",
    "    if kernel == 2:\n",
    "        for i in non_zeros_indices:\n",
    "            bb = 0\n",
    "            for j in range(0, len(inputs)):\n",
    "                bb += alphas[j]*targets[j]*rbf_kernel(inputs[i], inputs[j])\n",
    "            bb -= targets[i]\n",
    "            b.append(bb)\n",
    "    return np.mean(b)\n"
   ]
  },
  {
   "cell_type": "code",
   "execution_count": 22,
   "metadata": {
    "ExecuteTime": {
     "end_time": "2018-12-27T23:05:10.687932Z",
     "start_time": "2018-12-27T23:05:10.584706Z"
    },
    "collapsed": true
   },
   "outputs": [],
   "source": [
    "def plot_it_all(classA, classB, non_zero_alphas, non_zero_inputs, non_zero_targets, b, title, kernel):\n",
    "    plt.plot([p[0] for p in classA],\n",
    "            [p[1] for p in classA],\n",
    "            'b.')\n",
    "    plt.plot([p[0] for p in classB],\n",
    "            [p[1] for p in classB],\n",
    "            'r.')\n",
    "    plt.axis(\"equal\")\n",
    "    plt.savefig(title)\n",
    "    xgrid = np.linspace(-5, 5)\n",
    "    ygrid = np.linspace(-4, 4)\n",
    "    grid = np.array([[indicator([x,y], non_zero_alphas, non_zero_targets, non_zero_inputs, b, kernel)\n",
    "                     for x in xgrid]\n",
    "                     for y in ygrid])\n",
    "    plt.contour(xgrid, ygrid, grid,\n",
    "               (-1.0, 0.0, 1.0),\n",
    "                colors = (\"red\", \"black\", \"blue\"),\n",
    "                linewidths = (1,3,1))\n",
    "    plt.plot([p[0] for p in classA],\\\n",
    "              [p[1] for p in classA],\\\n",
    "              'b.')\n",
    "    \n",
    "    plt.plot([p[0] for p in classB],\\\n",
    "              [p[1] for p in classB],\\\n",
    "              'r.')\n",
    "    plt.axis(\"equal\")\n",
    "    plt.show()\n",
    "    \n",
    "\n",
    "         "
   ]
  },
  {
   "cell_type": "markdown",
   "metadata": {},
   "source": [
    "# Experiments\n",
    "## Change of clusters\n",
    "### Linear"
   ]
  },
  {
   "cell_type": "markdown",
   "metadata": {},
   "source": [
    "# TEST POINTS NOT WORKING"
   ]
  },
  {
   "cell_type": "code",
   "execution_count": 36,
   "metadata": {
    "ExecuteTime": {
     "end_time": "2018-12-27T23:08:35.631215Z",
     "start_time": "2018-12-27T23:08:34.960876Z"
    }
   },
   "outputs": [
    {
     "name": "stderr",
     "output_type": "stream",
     "text": [
      "C:\\ProgramData\\Anaconda3\\lib\\site-packages\\matplotlib\\contour.py:1180: UserWarning: No contour levels were found within the data range.\n",
      "  warnings.warn(\"No contour levels were found\"\n"
     ]
    },
    {
     "data": {
      "image/png": "[encoded data removed]",
      "text/plain": [
       "<matplotlib.figure.Figure at 0x1e06262d978>"
      ]
     },
     "metadata": {},
     "output_type": "display_data"
    }
   ],
   "source": [
    "\n",
    "inputs = np.array([[1 ,3], [2, 3], [1, 2], [1.5, 1], [3, 1.5], [2, 1.5], [7, 9], [8, 7], [8, 9], [7.5, 8], [9, 7.5]])\n",
    "targets = targets = np.array([0, 0, 0, 0, 0, 0, 1, 1, 1, 1, 1])\n",
    "N = inputs.shape[0]\n",
    "classA = inputs[0:6]\n",
    "classB = inputs[6:]\n",
    "C = 10\n",
    "p=3\n",
    "\n",
    "p_matrix = compute_global_matrix(inputs, targets, 1, N)\n",
    "alphas = compute_alphas(C, N)\n",
    "\n",
    "non_zeros_indices = return_nonzeros(alphas, inputs, targets, C)\n",
    "b = get_b(non_zeros_indices, inputs, targets, 1)\n",
    "title = \"randomCluster_linear_\"+str(9)+\".png\";\n",
    "plot_it_all(classA, classB, alphas, inputs, targets, b, \"title\", 1)   "
   ]
  },
  {
   "cell_type": "code",
   "execution_count": 24,
   "metadata": {
    "ExecuteTime": {
     "end_time": "2018-12-27T23:05:52.033804Z",
     "start_time": "2018-12-27T23:05:34.576512Z"
    },
    "scrolled": false
   },
   "outputs": [
    {
     "data": {
      "image/png": "[encoded data removed]",
      "text/plain": [
       "<matplotlib.figure.Figure at 0x1e0621fd518>"
      ]
     },
     "metadata": {},
     "output_type": "display_data"
    },
    {
     "data": {
      "image/png": "[encoded data removed]",
      "text/plain": [
       "<matplotlib.figure.Figure at 0x1e0625d81d0>"
      ]
     },
     "metadata": {},
     "output_type": "display_data"
    },
    {
     "data": {
      "image/png": "[encoded data removed]",
      "text/plain": [
       "<matplotlib.figure.Figure at 0x1e06264d828>"
      ]
     },
     "metadata": {},
     "output_type": "display_data"
    },
    {
     "data": {
      "image/png": "[encoded data removed]",
      "text/plain": [
       "<matplotlib.figure.Figure at 0x1e062627518>"
      ]
     },
     "metadata": {},
     "output_type": "display_data"
    },
    {
     "data": {
      "image/png": "[encoded data removed]",
      "text/plain": [
       "<matplotlib.figure.Figure at 0x1e0624e2e80>"
      ]
     },
     "metadata": {},
     "output_type": "display_data"
    }
   ],
   "source": [
    "C=10\n",
    "kernel = 0\n",
    "\n",
    "for i in range(0, 5):\n",
    "    inputs, targets, N, classA, classB = create_clusters(random.uniform(-5,5), random.uniform(-5,5), random.uniform(-5,5), \n",
    "                                                         random.uniform(-5,5), random.uniform(-5,5), random.uniform(-5,5), random.uniform(0,1), random.uniform(0,1))\n",
    "\n",
    "    p_matrix = compute_global_matrix(inputs, targets, kernel, N)\n",
    "    alphas = compute_alphas(C, N)\n",
    "\n",
    "    non_zeros_indices = return_nonzeros(alphas, inputs, targets, C)\n",
    "    b = get_b(non_zeros_indices, inputs, targets, kernel)\n",
    "    title = \"randomCluster_linear_\"+str(i)+\".png\";\n",
    "    plot_it_all(classA, classB, alphas, inputs, targets, b, title, kernel)   \n",
    "\n",
    "    "
   ]
  },
  {
   "cell_type": "markdown",
   "metadata": {},
   "source": [
    "### Polynomial"
   ]
  }
 ],
 "metadata": {
  "kernelspec": {
   "display_name": "Python 3",
   "language": "python",
   "name": "python3"
  },
  "language_info": {
   "codemirror_mode": {
    "name": "ipython",
    "version": 3
   },
   "file_extension": ".py",
   "mimetype": "text/x-python",
   "name": "python",
   "nbconvert_exporter": "python",
   "pygments_lexer": "ipython3",
   "version": "3.6.3"
  },
  "toc": {
   "base_numbering": 1,
   "nav_menu": {},
   "number_sections": true,
   "sideBar": true,
   "skip_h1_title": false,
   "title_cell": "Table of Contents",
   "title_sidebar": "Contents",
   "toc_cell": false,
   "toc_position": {},
   "toc_section_display": true,
   "toc_window_display": true
  }
 },
 "nbformat": 4,
 "nbformat_minor": 2
}
